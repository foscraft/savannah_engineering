{
 "cells": [
  {
   "cell_type": "code",
   "execution_count": null,
   "metadata": {},
   "outputs": [],
   "source": [
    "import requests # type: ignore\n",
    "import json\n",
    "import os"
   ]
  },
  {
   "cell_type": "code",
   "execution_count": null,
   "metadata": {},
   "outputs": [],
   "source": [
    "\n",
    "DATA_DIR = '/opt/airflow/data/jsons'\n",
    "os.makedirs(DATA_DIR, exist_ok=True)"
   ]
  },
  {
   "cell_type": "code",
   "execution_count": null,
   "metadata": {},
   "outputs": [],
   "source": [
    "def fetch_and_save_data():\n",
    "    \"\"\"\n",
    "    Fetch data from /carts, /products, and /users endpoints, handle pagination,\n",
    "    and save results to JSON files in the specified directory. Raise errors for failed API calls.\n",
    "    \"\"\"\n",
    "    endpoints = {\n",
    "        \"carts\": \"https://dummyjson.com/carts\",\n",
    "        \"products\": \"https://dummyjson.com/products\",\n",
    "        \"users\": \"https://dummyjson.com/users\",\n",
    "    }\n",
    "    output_files = {\n",
    "        \"carts\": os.path.join(DATA_DIR, \"carts.json\"),\n",
    "        \"products\": os.path.join(DATA_DIR, \"products.json\"),\n",
    "        \"users\": os.path.join(DATA_DIR, \"users.json\"),\n",
    "    }\n",
    "    limit = 10  \n",
    "\n",
    "    for key, url in endpoints.items():\n",
    "        try:\n",
    "            skip = 0\n",
    "            all_data = []\n",
    "\n",
    "            while True:\n",
    "                response = requests.get(url, params={\"limit\": limit, \"skip\": skip})\n",
    "                response.raise_for_status()  \n",
    "                data = response.json()\n",
    "                results = data.get(key, [])  \n",
    "                if not results:\n",
    "                    break\n",
    "\n",
    "                all_data.extend(results)\n",
    "                skip += limit\n",
    "\n",
    "            with open(output_files[key], \"w\") as json_file:\n",
    "                json.dump(all_data, json_file, indent=4)\n",
    "\n",
    "            print(f\"Data for '{key}' successfully saved to {output_files[key]} with {len(all_data)} entries.\")\n",
    "\n",
    "        except requests.exceptions.RequestException as e:\n",
    "            raise RuntimeError(f\"Failed to fetch data from {url}: {e}\")\n",
    "\n",
    "try:\n",
    "    fetch_and_save_data()\n",
    "except RuntimeError as e:\n",
    "    print(f\"Error: {e}\")"
   ]
  }
 ],
 "metadata": {
  "kernelspec": {
   "display_name": ".venv",
   "language": "python",
   "name": "python3"
  },
  "language_info": {
   "codemirror_mode": {
    "name": "ipython",
    "version": 3
   },
   "file_extension": ".py",
   "mimetype": "text/x-python",
   "name": "python",
   "nbconvert_exporter": "python",
   "pygments_lexer": "ipython3",
   "version": "3.9.7"
  }
 },
 "nbformat": 4,
 "nbformat_minor": 2
}
