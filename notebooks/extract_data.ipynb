{
 "cells": [
  {
   "cell_type": "code",
   "execution_count": 3,
   "metadata": {},
   "outputs": [],
   "source": [
    "import os\n",
    "import requests # type: ignore\n",
    "import json"
   ]
  },
  {
   "cell_type": "code",
   "execution_count": 4,
   "metadata": {},
   "outputs": [],
   "source": [
    "url_user = \"https://dummyjson.com/user\"\n",
    "url_products = \"https://dummyjson.com/products\"\n",
    "url_carts = \"https://dummyjson.com/carts\""
   ]
  },
  {
   "cell_type": "code",
   "execution_count": null,
   "metadata": {},
   "outputs": [],
   "source": [
    "# Set the base directory to the mapped data directory in the Docker container\n",
    "DATA_DIR = '/opt/airflow/data/jsons'  # Adjusted to point to the correct directory\n",
    "os.makedirs(DATA_DIR, exist_ok=True)  # Create the directory if it doesn't exis"
   ]
  },
  {
   "cell_type": "code",
   "execution_count": 7,
   "metadata": {},
   "outputs": [],
   "source": [
    "def fetch_and_save_data(url, filename):\n",
    "    try:\n",
    "        folder = DATA_DIR\n",
    "        if not os.path.exists(folder):\n",
    "            os.makedirs(folder)\n",
    "\n",
    "        filepath = os.path.join(folder, filename)\n",
    "\n",
    "        response = requests.get(url)\n",
    "        response.raise_for_status()  # Check if the request was successful\n",
    "        data = response.json()\n",
    "\n",
    "        with open(filepath, 'w') as json_file:\n",
    "            json.dump(data, json_file, indent=4)\n",
    "        print(f\"Data saved to {filepath}\")\n",
    "    except requests.exceptions.RequestException as e:\n",
    "        print(f\"Error fetching data from {url}: {e}\")"
   ]
  },
  {
   "cell_type": "code",
   "execution_count": 8,
   "metadata": {},
   "outputs": [
    {
     "name": "stdout",
     "output_type": "stream",
     "text": [
      "Data saved to /home/reuben/Documents/WORK/SAVANNAH/data/jsons/users.json\n",
      "Data saved to /home/reuben/Documents/WORK/SAVANNAH/data/jsons/products.json\n",
      "Data saved to /home/reuben/Documents/WORK/SAVANNAH/data/jsons/carts.json\n"
     ]
    }
   ],
   "source": [
    "fetch_and_save_data(url_user, \"users.json\")\n",
    "fetch_and_save_data(url_products, \"products.json\")\n",
    "fetch_and_save_data(url_carts, \"carts.json\")"
   ]
  }
 ],
 "metadata": {
  "kernelspec": {
   "display_name": ".venv",
   "language": "python",
   "name": "python3"
  },
  "language_info": {
   "codemirror_mode": {
    "name": "ipython",
    "version": 3
   },
   "file_extension": ".py",
   "mimetype": "text/x-python",
   "name": "python",
   "nbconvert_exporter": "python",
   "pygments_lexer": "ipython3",
   "version": "3.9.7"
  }
 },
 "nbformat": 4,
 "nbformat_minor": 2
}
