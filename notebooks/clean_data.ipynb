{
 "cells": [
  {
   "cell_type": "code",
   "execution_count": 1,
   "metadata": {},
   "outputs": [],
   "source": [
    "import os\n",
    "import json\n",
    "import pandas as pd # type: ignore"
   ]
  },
  {
   "cell_type": "code",
   "execution_count": null,
   "metadata": {},
   "outputs": [],
   "source": [
    "# Set the base directory to the mapped data directory in the Docker container\n",
    "BASEDIR = '/opt/airflow/data'"
   ]
  },
  {
   "cell_type": "code",
   "execution_count": null,
   "metadata": {},
   "outputs": [],
   "source": [
    "with open(os.path.join(BASEDIR, 'jsons', 'users.json'), 'r') as file:\n",
    "    users_data = json.load(file)\n",
    "\n",
    "with open(os.path.join(BASEDIR, 'jsons', 'products.json'), 'r') as file:\n",
    "    products_data = json.load(file)\n",
    "\n",
    "with open(os.path.join(BASEDIR, 'jsons', 'carts.json'), 'r') as file:\n",
    "    carts_data = json.load(file)"
   ]
  },
  {
   "cell_type": "code",
   "execution_count": 8,
   "metadata": {},
   "outputs": [],
   "source": [
    "CLEANED_DIR = os.path.join(BASEDIR, 'cleaned')\n",
    "\n",
    "os.makedirs(CLEANED_DIR, exist_ok=True)\n",
    "\n",
    "users_df = pd.DataFrame(users_data)\n",
    "\n",
    "address_data = [\n",
    "    {\n",
    "        'street': address.get('address', '') if isinstance(address, dict) else '',\n",
    "        'city': address.get('city', '') if isinstance(address, dict) else '',\n",
    "        'postal_code': address.get('postalCode', '') if isinstance(address, dict) else ''\n",
    "    } for address in users_df.get('address', [])\n",
    "]"
   ]
  },
  {
   "cell_type": "code",
   "execution_count": 9,
   "metadata": {},
   "outputs": [],
   "source": [
    "address_df = pd.DataFrame(address_data)\n",
    "\n",
    "# Combine and rename columns\n",
    "users_df = pd.concat([users_df, address_df], axis=1)\n",
    "users_df = users_df[['id', 'firstName', 'lastName', 'gender', 'age', 'street', 'city', 'postal_code']]\n",
    "users_df.columns = ['user_id', 'first_name', 'last_name', 'gender', 'age', 'street', 'city', 'postal_code']\n"
   ]
  },
  {
   "cell_type": "code",
   "execution_count": 10,
   "metadata": {},
   "outputs": [],
   "source": [
    "# Clean and normalize products data\n",
    "products_df = pd.DataFrame(products_data)\n",
    "\n",
    "# Use boolean indexing for filtering\n",
    "products_df = products_df[products_df['price'] > 50]\n",
    "products_df = products_df[['id', 'title', 'category', 'brand', 'price']]\n",
    "products_df.columns = ['product_id', 'name', 'category', 'brand', 'price']"
   ]
  },
  {
   "cell_type": "code",
   "execution_count": null,
   "metadata": {},
   "outputs": [],
   "source": [
    "# Clean and normalize carts data\n",
    "carts_df = pd.DataFrame(carts_data)\n",
    "\n",
    "carts_df = carts_df.explode('products', ignore_index=True)\n",
    "cat_product_data = [\n",
    "        {\n",
    "            'product_id': product.get('id', None),\n",
    "            'quantity': product.get('quantity', 0),\n",
    "            'price': product.get('price', 0)\n",
    "        } if isinstance(product, dict) else {'cart_id': carts_df.loc[i, 'id'], 'product_id': None, 'quantity': 0, 'price': 0}\n",
    "        for i, product in enumerate(carts_df['products'])\n",
    "    ]\n",
    "cat_product_df = pd.DataFrame(cat_product_data)"
   ]
  },
  {
   "cell_type": "code",
   "execution_count": null,
   "metadata": {},
   "outputs": [],
   "source": [
    "# Combine and calculate additional fields\n",
    "carts_df = pd.concat([carts_df, cat_product_df], axis=1)\n",
    "carts_df['total_cart_value'] = carts_df['quantity'] * carts_df['price']\n",
    "carts_df = carts_df[['id', 'userId', 'product_id', 'quantity', 'price', 'total_cart_value']]\n",
    "carts_df.columns = ['cart_id', 'user_id', 'product_id', 'quantity', 'price', 'total_cart_value']"
   ]
  },
  {
   "cell_type": "code",
   "execution_count": 15,
   "metadata": {},
   "outputs": [],
   "source": [
    "users_csv_path = os.path.join(CLEANED_DIR, 'cleaned_users.csv')\n",
    "products_csv_path = os.path.join(CLEANED_DIR, 'cleaned_products.csv')\n",
    "carts_csv_path = os.path.join(CLEANED_DIR, 'cleaned_carts.csv')"
   ]
  },
  {
   "cell_type": "code",
   "execution_count": 16,
   "metadata": {},
   "outputs": [
    {
     "name": "stdout",
     "output_type": "stream",
     "text": [
      "Data cleaned and saved to CSV in: /home/reuben/Documents/WORK/savannah_engineering/cleaned\n"
     ]
    }
   ],
   "source": [
    "users_df.to_csv(users_csv_path, index=False)\n",
    "products_df.to_csv(products_csv_path, index=False)\n",
    "carts_df.to_csv(carts_csv_path, index=False)\n",
    "\n",
    "print(f\"Data cleaned and saved to CSV in: {CLEANED_DIR}\")"
   ]
  }
 ],
 "metadata": {
  "kernelspec": {
   "display_name": ".venv",
   "language": "python",
   "name": "python3"
  },
  "language_info": {
   "codemirror_mode": {
    "name": "ipython",
    "version": 3
   },
   "file_extension": ".py",
   "mimetype": "text/x-python",
   "name": "python",
   "nbconvert_exporter": "python",
   "pygments_lexer": "ipython3",
   "version": "3.9.7"
  }
 },
 "nbformat": 4,
 "nbformat_minor": 2
}
