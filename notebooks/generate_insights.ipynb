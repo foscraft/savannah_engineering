{
 "cells": [
  {
   "cell_type": "code",
   "execution_count": 7,
   "metadata": {},
   "outputs": [],
   "source": [
    "import os\n",
    "import pandas as pd # type: ignore"
   ]
  },
  {
   "cell_type": "code",
   "execution_count": 8,
   "metadata": {},
   "outputs": [],
   "source": [
    "BASEDIR = os.path.join(os.path.dirname(os.getcwd()), 'data')"
   ]
  },
  {
   "cell_type": "code",
   "execution_count": 9,
   "metadata": {},
   "outputs": [],
   "source": [
    "users_df = pd.read_csv(os.path.join(BASEDIR, 'cleaned', 'cleaned_users.csv'))\n",
    "products_df = pd.read_csv(os.path.join(BASEDIR, 'cleaned', 'cleaned_products.csv'))\n",
    "carts_df = pd.read_csv(os.path.join(BASEDIR, 'cleaned', 'cleaned_carts.csv'))"
   ]
  },
  {
   "cell_type": "code",
   "execution_count": 10,
   "metadata": {},
   "outputs": [],
   "source": [
    "INSIGHTS_DIR = os.path.join(BASEDIR, 'insights')\n",
    "os.makedirs(INSIGHTS_DIR, exist_ok=True)"
   ]
  },
  {
   "cell_type": "code",
   "execution_count": 11,
   "metadata": {},
   "outputs": [],
   "source": [
    "# 1. User Summary: Total spending and number of purchases per user\n",
    "user_summary = carts_df.groupby('user_id').agg(\n",
    "    total_spent=('total_cart_value', 'sum'),\n",
    "    total_items=('cart_id', 'count')\n",
    ").reset_index()\n",
    "\n",
    "user_summary = user_summary.merge(users_df[['user_id', 'first_name', 'age', 'city']], on='user_id', how='left')"
   ]
  },
  {
   "cell_type": "code",
   "execution_count": 12,
   "metadata": {},
   "outputs": [],
   "source": [
    "# 2. Category Summary: Aggregate sales by product category\n",
    "category_summary = carts_df.merge(products_df[['product_id', 'category']], on='product_id', how='left')\n",
    "category_summary = category_summary.groupby('category').agg(\n",
    "    total_sales=('total_cart_value', 'sum'),\n",
    "    total_items_sold=('cart_id', 'count')\n",
    ").reset_index()"
   ]
  },
  {
   "cell_type": "code",
   "execution_count": 13,
   "metadata": {},
   "outputs": [],
   "source": [
    "\n",
    "# 3. Cart Details: Transaction-level details enriched with user and product data\n",
    "cart_details = carts_df.merge(users_df[['user_id', 'first_name', 'age', 'city']], on='user_id', how='left')\n",
    "cart_details = cart_details.merge(products_df[['product_id', 'name', 'category']], on='product_id', how='left')"
   ]
  },
  {
   "cell_type": "code",
   "execution_count": 14,
   "metadata": {},
   "outputs": [],
   "source": [
    "cart_details_path = os.path.join(INSIGHTS_DIR, 'cart_details.csv')\n",
    "category_summary_path = os.path.join(INSIGHTS_DIR, 'category_summary.csv')\n",
    "user_summary_path = os.path.join(INSIGHTS_DIR, 'user_summary.csv')"
   ]
  },
  {
   "cell_type": "code",
   "execution_count": 15,
   "metadata": {},
   "outputs": [
    {
     "name": "stdout",
     "output_type": "stream",
     "text": [
      "Insights generated and saved to CSV.\n"
     ]
    }
   ],
   "source": [
    "# Write to CSV\n",
    "user_summary.to_csv(user_summary_path, index=False)\n",
    "category_summary.to_csv(category_summary_path, index=False)\n",
    "cart_details.to_csv(cart_details_path, index=False)\n",
    "\n",
    "print(\"Insights generated and saved to CSV.\")"
   ]
  }
 ],
 "metadata": {
  "kernelspec": {
   "display_name": ".venv",
   "language": "python",
   "name": "python3"
  },
  "language_info": {
   "codemirror_mode": {
    "name": "ipython",
    "version": 3
   },
   "file_extension": ".py",
   "mimetype": "text/x-python",
   "name": "python",
   "nbconvert_exporter": "python",
   "pygments_lexer": "ipython3",
   "version": "3.9.7"
  }
 },
 "nbformat": 4,
 "nbformat_minor": 2
}
